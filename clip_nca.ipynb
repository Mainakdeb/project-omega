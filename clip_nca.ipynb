{
  "cells": [
    {
      "cell_type": "code",
      "execution_count": null,
      "metadata": {
        "id": "y8UlAJoO6F5X"
      },
      "outputs": [],
      "source": [
        "!nvidia-smi -L\n",
        "!pip install git+https://github.com/openai/CLIP.git\n",
        "!wget https://cdn2.thecatapi.com/images/c1_w1J682.jpg"
      ]
    },
    {
      "cell_type": "code",
      "execution_count": 17,
      "metadata": {
        "id": "fj9Q--hlPEKi"
      },
      "outputs": [],
      "source": [
        "import torch\n",
        "import torch.nn as nn\n",
        "import torchvision.models as models\n",
        "import torchvision.transforms.functional as F\n",
        "from torchvision import transforms\n",
        "device = torch.device(\"cuda:0\" if torch.cuda.is_available() else \"cpu\")\n",
        "\n",
        "from PIL import Image\n",
        "import numpy as np\n",
        "from tqdm import tqdm_notebook, tnrange\n",
        "import imageio\n",
        "import clip\n",
        "\n",
        "from base64 import b64encode\n",
        "import matplotlib.pyplot as plt\n",
        "import requests\n",
        "import io\n",
        "import os\n",
        "from IPython.display import  HTML, clear_output\n",
        "\n",
        "os.environ['FFMPEG_BINARY'] = 'ffmpeg'\n",
        "import moviepy.editor as mvp\n",
        "from moviepy.video.io.ffmpeg_writer import FFMPEG_VideoWriter\n",
        "import imageio\n",
        "from google.colab import files"
      ]
    },
    {
      "cell_type": "code",
      "execution_count": null,
      "metadata": {
        "id": "qgyd-JEwPGlz"
      },
      "outputs": [],
      "source": [
        "# CLIP stuff\n",
        "clip.available_models()\n",
        "\n",
        "model, preprocess = clip.load(\"ViT-B/32\")\n",
        "model.to(device).eval()\n",
        "input_resolution = model.visual.input_resolution\n",
        "context_length = model.context_length\n",
        "vocab_size = model.vocab_size\n",
        "\n",
        "print(\"Model parameters:\", f\"{np.sum([int(np.prod(p.shape)) for p in model.parameters()]):,}\")\n",
        "print(\"Input resolution:\", input_resolution)\n",
        "print(\"Context length:\", context_length)\n",
        "print(\"Vocab size:\", vocab_size)\n",
        "\n",
        "def clip_encode_text(text_str):\n",
        "    tokenized_text = clip.tokenize(text_str).cuda()\n",
        "    text_features = model.encode_text(tokenized_text)\n",
        "    return(text_features)\n",
        "with torch.no_grad():\n",
        "    text_features=clip_encode_text(\"frogs hi\")\n",
        "\n",
        "def clip_encode_images(image_input):\n",
        "    resized_i = F.resize(image_input, size=(224, 224))\n",
        "    image_features = model.encode_image(resized_i)\n",
        "    # print(resized_i.shape)\n",
        "    return(image_features)\n",
        "\n",
        "def get_clip_loss(text_str, images_tensor):\n",
        "    # with torch.no_grad():\n",
        "    image_features=clip_encode_images(images_tensor.cuda())\n",
        "    text_features=clip_encode_text(text_str).cuda()\n",
        "    text_features=text_features.repeat(image_features.shape[0], 1)\n",
        "    similarity = text_features @ image_features.T\n",
        "    return(-torch.mean(similarity))"
      ]
    },
    {
      "cell_type": "code",
      "source": [
        "#NCA \n",
        "sobel_filter = torch.tensor([[-1, 0, 1], [-2, 0, 2], [-1, 0, 1]])\n",
        "identity_filter = torch.tensor([[0, 0, 0], [0, 1, 0], [0, 0, 0],],dtype=torch.float32)\n",
        "laplacian_filter = torch.tensor([[1.0,2.0,1.0], [2.0,-12,2.0], [1.0,2.0,1.0]])\n",
        "\n",
        "def perception(x):\n",
        "  filters = torch.stack([identity_filter, sobel_filter, sobel_filter.T, laplacian_filter])\n",
        "  return perchannel_conv(x, filters)\n",
        "\n",
        "class CA(torch.nn.Module):\n",
        "  def __init__(self, chn=12, hidden_n=96):\n",
        "    super().__init__()\n",
        "    self.chn = chn\n",
        "    self.w1 = torch.nn.Conv2d(chn*4, hidden_n, 1)\n",
        "    self.w2 = torch.nn.Conv2d(hidden_n, chn, 1, bias=False)\n",
        "    self.w2.weight.data.zero_()\n",
        "\n",
        "  def forward(self, x, update_rate=0.5):\n",
        "    y = perception(x)\n",
        "    y = self.w2(torch.relu(self.w1(y)))\n",
        "    b, c, h, w = y.shape\n",
        "    udpate_mask = (torch.rand(b, 1, h, w)+update_rate).floor()\n",
        "    return x+y*udpate_mask\n",
        "\n",
        "  def seed(self, n, sz=128):\n",
        "    # seed=torch.randn(n, self.chn, sz, sz)\n",
        "    # #normal\n",
        "    # seed -= seed.min(1, keepdim=True)[0]\n",
        "    # seed /= seed.max(1, keepdim=True)[0]\n",
        "    seed=torch.zeros(n, self.chn, sz, sz)\n",
        "    # print(\"min \", torch.min(seed), \"max \", torch.max(seed))\n",
        "    return seed\n",
        "    \n",
        "ca = CA()\n",
        "\n",
        "def to_rgb(x):\n",
        "  return x[...,:3,:,:]+0.5\n",
        "\n",
        "param_n = sum(p.numel() for p in CA().parameters())\n",
        "print('CA param count:', param_n)\n",
        "\n",
        "def perchannel_conv(x, filters):\n",
        "  '''filters: [filter_n, h, w]'''\n",
        "  b, ch, h, w = x.shape\n",
        "  y = x.reshape(b*ch, 1, h, w)\n",
        "  y = torch.nn.functional.pad(y, [1, 1, 1, 1], 'circular')\n",
        "  y = torch.nn.functional.conv2d(y, filters[:,None])\n",
        "  return y.reshape(b, -1, h, w)"
      ],
      "metadata": {
        "id": "hIO6ChI4NpZo"
      },
      "execution_count": null,
      "outputs": []
    },
    {
      "cell_type": "code",
      "execution_count": 134,
      "metadata": {
        "id": "nOlGhxB_PIEf"
      },
      "outputs": [],
      "source": [
        "opt = torch.optim.Adam(ca.parameters(), 2e-3)\n",
        "lr_sched = torch.optim.lr_scheduler.MultiStepLR(opt, [200,700,800,900], 0.4)\n",
        "loss_log = []\n",
        "with torch.no_grad():\n",
        "  pool = ca.seed(128)\n",
        "\n",
        "torch.set_default_tensor_type('torch.cuda.FloatTensor')\n",
        "batch_size=8\n",
        "\n",
        "transform = transforms.Compose([transforms.RandomHorizontalFlip(p=0.5),\n",
        "                                #transforms.RandomVerticalFlip(p=0.5),\n",
        "                                transforms.RandomRotation(degrees=30),\n",
        "                                #A.GridDistortion(.9)\n",
        "                                ])"
      ]
    },
    {
      "cell_type": "code",
      "execution_count": null,
      "metadata": {
        "id": "dLf17ePJPLQP"
      },
      "outputs": [],
      "source": [
        "for i in range(1000):\n",
        "  with torch.no_grad():\n",
        "    batch_idx = np.random.choice(len(pool), batch_size, replace=False)\n",
        "\n",
        "    x = pool[batch_idx]\n",
        "    if i%8 == 0:\n",
        "      x[:1] = ca.seed(1)\n",
        "  step_n = np.random.randint(32, 96)\n",
        "  x = torch.utils.checkpoint.checkpoint_sequential([ca]*step_n, 16, x)\n",
        "  imgs = to_rgb(x)\n",
        "\n",
        "  overflow_loss = (x-x.clamp(-1.0, 1.0)).abs().sum()\n",
        "  loss = get_clip_loss(\"Andromeda Galaxy\", imgs) + overflow_loss\n",
        "\n",
        "  with torch.no_grad():\n",
        "    loss.backward()\n",
        "    for p in ca.parameters():\n",
        "      p.grad /= (p.grad.norm()+1e-8)   # normalize gradients \n",
        "    opt.step()\n",
        "    opt.zero_grad()\n",
        "    lr_sched.step()\n",
        "    pool[batch_idx] = x                # update pool\n",
        "    \n",
        "    loss_log.append(loss.item())\n",
        "    if i%5==0:\n",
        "      clear_output(True)\n",
        "      imgs = to_rgb(x).permute([0, 3, 2, 1]).cpu()\n",
        "      f, axarr = plt.subplots(1,2)\n",
        "      axarr[0].plot(loss_log[-50:], alpha=0.8)\n",
        "    #   plt.yscale('log')\n",
        "    #   pl.ylim(np.min(loss_log), loss_log[0])\n",
        "      axarr[1].imshow(imgs[0].cpu().detach().numpy())\n",
        "    #  plt.imshow(np.hstack(imgs)[-3:])\n",
        "      plt.show()\n",
        "    if i%5 == 0:\n",
        "      print('\\rstep_n:', len(loss_log),\n",
        "        ' loss:', loss.item(), \n",
        "        ' overflow loss: ', overflow_loss.item(),\n",
        "        ' lr:', lr_sched.get_lr()[0], end='')\n",
        "    \n",
        "    if i%5 == 0:\n",
        "      pool=transform(pool)"
      ]
    },
    {
      "cell_type": "code",
      "execution_count": 136,
      "metadata": {
        "id": "XglsbK3jPpm_"
      },
      "outputs": [],
      "source": [
        "class VideoWriter:\n",
        "  def __init__(self, filename='./_autoplay.mov', fps=60.0, **kw):\n",
        "    self.writer = None\n",
        "    self.params = dict(filename=filename, fps=fps, **kw)\n",
        "\n",
        "  def add(self, img):\n",
        "    img = np.asarray(img)\n",
        "    if self.writer is None:\n",
        "      h, w = img.shape[:2]\n",
        "      self.writer = FFMPEG_VideoWriter(size=(w, h), **self.params)\n",
        "    if img.dtype in [np.float32, np.float64]:\n",
        "      img = np.uint8(img.clip(0, 1)*255)\n",
        "    if len(img.shape) == 2:\n",
        "      img = np.repeat(img[..., None], 3, -1)\n",
        "    self.writer.write_frame(img)\n",
        "\n",
        "  def close(self):\n",
        "    if self.writer:\n",
        "      self.writer.close()\n",
        "\n",
        "  def __enter__(self):\n",
        "    return self\n",
        "\n",
        "  def __exit__(self, *kw):\n",
        "    self.close()\n",
        "    if self.params['filename'] == '_autoplay.mov':\n",
        "      self.show()\n",
        "\n",
        "  def show(self, **kw):\n",
        "      self.close()\n",
        "      fn = self.params['filename']\n",
        "      display(mvp.ipython_display(fn, **kw))\n",
        "\n",
        "def zoom(img, scale=4):\n",
        "  img = np.repeat(img, scale, 0)\n",
        "  img = np.repeat(img, scale, 1)\n",
        "  return img"
      ]
    },
    {
      "cell_type": "code",
      "execution_count": null,
      "metadata": {
        "id": "d_T5YkZOWnKg"
      },
      "outputs": [],
      "source": [
        "vid_infer_size=128\n",
        "with VideoWriter() as vid, torch.no_grad():\n",
        "  x = ca.seed(1, vid_infer_size)\n",
        "  for k in tnrange(600, leave=False):\n",
        "    for i in range(1):\n",
        "      x[:] = ca(x)\n",
        "    img = to_rgb(x[0]).permute(1, 2, 0).cpu()\n",
        "    # vid.add(zoom(img, 4))\n",
        "    img = np.uint8(img.clip(0, 1)*255)\n",
        "    vid.add(img)\n",
        "\n",
        "from google.colab import files\n",
        "files.download('_autoplay.mov')"
      ]
    },
    {
      "cell_type": "code",
      "execution_count": null,
      "metadata": {
        "id": "Otg5YWJoWps2"
      },
      "outputs": [],
      "source": [
        "infer_sz=128\n",
        "gif_arr=np.zeros((600, infer_sz,infer_sz, 3))\n",
        "with torch.no_grad():\n",
        "  x = ca.seed(1, infer_sz)\n",
        "  for k in tnrange(600, leave=False):\n",
        "    for i in range(2):\n",
        "      x[:] = ca(x)\n",
        "    img = to_rgb(x[0]).permute(1, 2, 0).cpu()\n",
        "    gif_arr[k]=img#.permute(2, 0, 1)\n",
        "    # plt.ims"
      ]
    },
    {
      "cell_type": "code",
      "source": [
        "with imageio.get_writer('lossless.gif', mode='I', fps=60) as writer:\n",
        "    for out in gif_arr:\n",
        "        writer.append_data(out)\n",
        "writer.close()\n",
        "files.download('lossless.gif')"
      ],
      "metadata": {
        "id": "nnTuasZsuIWW"
      },
      "execution_count": null,
      "outputs": []
    },
    {
      "cell_type": "code",
      "execution_count": null,
      "metadata": {
        "id": "7Bf_Mtg4Mabj"
      },
      "outputs": [],
      "source": [
        ""
      ]
    }
  ],
  "metadata": {
    "accelerator": "GPU",
    "colab": {
      "collapsed_sections": [],
      "name": "clip_nca_mobile.ipynb",
      "provenance": []
    },
    "kernelspec": {
      "display_name": "Python 3",
      "name": "python3"
    },
    "language_info": {
      "name": "python"
    }
  },
  "nbformat": 4,
  "nbformat_minor": 0
}