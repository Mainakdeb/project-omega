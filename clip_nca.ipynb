{
  "cells": [
    {
      "cell_type": "code",
      "execution_count": null,
      "metadata": {
        "id": "dm485_AJowoU"
      },
      "outputs": [],
      "source": [
        "!nvidia-smi -L"
      ]
    },
    {
      "cell_type": "code",
      "execution_count": null,
      "metadata": {
        "id": "NDHN1Q-ry80E"
      },
      "outputs": [],
      "source": [
        "! pip install git+https://github.com/openai/CLIP.git"
      ]
    },
    {
      "cell_type": "code",
      "execution_count": null,
      "metadata": {
        "id": "D8lLX02lzl_E"
      },
      "outputs": [],
      "source": [
        "!wget https://cdn2.thecatapi.com/images/c1_w1J682.jpg\n"
      ]
    },
    {
      "cell_type": "code",
      "execution_count": 4,
      "metadata": {
        "id": "w1QIdYF0MNIY"
      },
      "outputs": [],
      "source": [
        "import torch\n",
        "import torch.nn as nn\n",
        "import torchvision.models as models\n",
        "import torchvision.transforms.functional as F\n",
        "\n",
        "from PIL import Image\n",
        "import numpy as np\n",
        "from tqdm import tqdm_notebook, tnrange\n",
        "import imageio\n",
        "\n",
        "from base64 import b64encode\n",
        "import matplotlib.pyplot as plt\n",
        "import requests\n",
        "import io\n",
        "import os\n",
        "from IPython.display import  HTML, clear_output\n",
        "import matplotlib.pylab as pl\n",
        "\n",
        "os.environ['FFMPEG_BINARY'] = 'ffmpeg'\n",
        "import moviepy.editor as mvp\n",
        "from moviepy.video.io.ffmpeg_writer import FFMPEG_VideoWriter"
      ]
    },
    {
      "cell_type": "code",
      "execution_count": null,
      "metadata": {
        "id": "F-wTLtHuzCeN"
      },
      "outputs": [],
      "source": [
        "import clip\n",
        "clip.available_models()\n",
        "\n",
        "model, preprocess = clip.load(\"ViT-B/32\")\n",
        "model.cuda().eval()\n",
        "input_resolution = model.visual.input_resolution\n",
        "context_length = model.context_length\n",
        "vocab_size = model.vocab_size\n",
        "\n",
        "print(\"Model parameters:\", f\"{np.sum([int(np.prod(p.shape)) for p in model.parameters()]):,}\")\n",
        "print(\"Input resolution:\", input_resolution)\n",
        "print(\"Context length:\", context_length)\n",
        "print(\"Vocab size:\", vocab_size)"
      ]
    },
    {
      "cell_type": "code",
      "execution_count": null,
      "metadata": {
        "id": "9QE5Go7DzfzH"
      },
      "outputs": [],
      "source": [
        "def clip_encode_text(text_str):\n",
        "    tokenized_text = clip.tokenize(text_str).cuda()\n",
        "    text_features = model.encode_text(tokenized_text)\n",
        "    return(text_features)\n",
        "with torch.no_grad():\n",
        "    text_features=clip_encode_text(\"frogs hi\")\n",
        "\n",
        "def clip_encode_images(image_input):\n",
        "    resized_i = F.resize(image_input, size=(224, 224))\n",
        "    image_features = model.encode_image(resized_i)\n",
        "    # print(resized_i.shape)\n",
        "    return(image_features)\n",
        "\n",
        "image_input=torch.tensor(plt.imread(\"/content/c1_w1J682.jpg\")).cuda().permute(2,1,0)\n",
        "with torch.no_grad():\n",
        "    image_features=clip_encode_images(image_input.unsqueeze(dim=0))\n",
        "\n",
        "image_input.unsqueeze(dim=0).shape"
      ]
    },
    {
      "cell_type": "code",
      "execution_count": null,
      "metadata": {
        "id": "gNJVzheUzwoP"
      },
      "outputs": [],
      "source": [
        "def get_clip_loss(text_str, images_tensor, loss_func):\n",
        "    # with torch.no_grad():\n",
        "    image_features=clip_encode_images(images_tensor.cuda())\n",
        "    text_features=clip_encode_text(text_str).cuda()\n",
        "\n",
        "    #normalize\n",
        "    # image_features /= image_features.norm(dim=-1, keepdim=True)\n",
        "    # text_features /= text_features.norm(dim=-1, keepdim=True)\n",
        "    text_features=text_features.repeat(image_features.shape[0], 1)\n",
        "    similarity = text_features @ image_features.T\n",
        "    # print(\"db\", similarity)\n",
        "    return(-torch.mean(similarity))\n",
        "\n",
        "s=torch.tensor(plt.imread(\"/content/c1_w1J682.jpg\")).permute(2,1,0)\n",
        "print(s.unsqueeze(dim=0).shape)\n",
        "get_clip_loss(text_str=\"image of a brown horse\", images_tensor=s.unsqueeze(dim=0), loss_func = nn.MSELoss())\n"
      ]
    },
    {
      "cell_type": "code",
      "execution_count": null,
      "metadata": {
        "id": "vCsqd2xLPGqm"
      },
      "outputs": [],
      "source": [
        "sobel_filter = torch.tensor([[-1, 0, 1], [-2, 0, 2], [-1, 0, 1]])\n",
        "identity_filter = torch.tensor([[0, 0, 0], [0, 1, 0], [0, 0, 0],],dtype=torch.float32)\n",
        "laplacian_filter = torch.tensor([[1.0,2.0,1.0], [2.0,-12,2.0], [1.0,2.0,1.0]])\n",
        "\n",
        "def perception(x):\n",
        "  filters = torch.stack([identity_filter, sobel_filter, sobel_filter.T, laplacian_filter])\n",
        "  return perchannel_conv(x, filters)\n",
        "\n",
        "class CA(torch.nn.Module):\n",
        "  def __init__(self, chn=12, hidden_n=96):\n",
        "    super().__init__()\n",
        "    self.chn = chn\n",
        "    self.w1 = torch.nn.Conv2d(chn*4, hidden_n, 1)\n",
        "    self.w2 = torch.nn.Conv2d(hidden_n, chn, 1, bias=False)\n",
        "    self.w2.weight.data.zero_()\n",
        "\n",
        "  def forward(self, x, update_rate=0.5):\n",
        "    y = perception(x)\n",
        "    y = self.w2(torch.relu(self.w1(y)))\n",
        "    b, c, h, w = y.shape\n",
        "    udpate_mask = (torch.rand(b, 1, h, w)+update_rate).floor()\n",
        "    return x+y*udpate_mask\n",
        "\n",
        "  def seed(self, n, sz=128):\n",
        "    return torch.randn(n, self.chn, sz, sz)\n",
        "    \n",
        "ca = CA()\n",
        "\n",
        "def to_rgb(x):\n",
        "  return x[...,:3,:,:]+0.5\n",
        "\n",
        "param_n = sum(p.numel() for p in CA().parameters())\n",
        "print('CA param count:', param_n)\n",
        "\n",
        "def perchannel_conv(x, filters):\n",
        "  '''filters: [filter_n, h, w]'''\n",
        "  b, ch, h, w = x.shape\n",
        "  y = x.reshape(b*ch, 1, h, w)\n",
        "  y = torch.nn.functional.pad(y, [1, 1, 1, 1], 'circular')\n",
        "  y = torch.nn.functional.conv2d(y, filters[:,None])\n",
        "  return y.reshape(b, -1, h, w)"
      ]
    },
    {
      "cell_type": "code",
      "execution_count": 48,
      "metadata": {
        "id": "vKZXelO6Y1uP"
      },
      "outputs": [],
      "source": [
        "def imread(url, max_size=None, mode=None):\n",
        "  if url.startswith(('http:', 'https:')):\n",
        "    # wikimedia requires a user agent\n",
        "    headers = {\n",
        "      \"User-Agent\": \"Requests in Colab/0.0 (https://colab.research.google.com/; no-reply@google.com) requests/0.0\"\n",
        "    }\n",
        "    r = requests.get(url, headers=headers)\n",
        "    f = io.BytesIO(r.content)\n",
        "  else:\n",
        "    f = url\n",
        "  img = Image.open(f)\n",
        "  if max_size is not None:\n",
        "    img.thumbnail((max_size, max_size), Image.ANTIALIAS)\n",
        "  if mode is not None:\n",
        "    img = img.convert(mode)\n",
        "  img = np.float32(img)/255.0\n",
        "  return img\n",
        "\n",
        "\n",
        "def imshow(a, fmt='jpeg'):\n",
        "  display(imencode(a, fmt))\n",
        "\n",
        "def imencode(a, fmt='jpeg'):\n",
        "  a = np.asarray(a)\n",
        "  if len(a.shape) == 3 and a.shape[-1] == 4:\n",
        "    fmt = 'png'\n",
        "  f = io.BytesIO()\n",
        "  imwrite(f, a, fmt)\n",
        "  return f.getvalue()\n",
        "\n",
        "def np2pil(a):\n",
        "  if a.dtype in [np.float32, np.float64]:\n",
        "    a = np.uint8(np.clip(a, 0, 1)*255)\n",
        "  return (Image.fromarray(a))\n",
        "\n",
        "def imwrite(f, a, fmt=None):\n",
        "  a = np.asarray(a)\n",
        "  if isinstance(f, str):\n",
        "    fmt = f.rsplit('.', 1)[-1].lower()\n",
        "    if fmt == 'jpg':\n",
        "      fmt = 'jpeg'\n",
        "    f = open(f, 'wb')\n",
        "  np2pil(a).save(f, fmt, quality=95)\n"
      ]
    },
    {
      "cell_type": "code",
      "execution_count": 49,
      "metadata": {
        "id": "Lp9eMNwpYgd-"
      },
      "outputs": [],
      "source": [
        "# style_url = 'https://upload.wikimedia.org/wikipedia/commons/thumb/0/04/Tempera%2C_charcoal_and_gouache_mountain_painting_by_Nicholas_Roerich.jpg/301px-Tempera%2C_charcoal_and_gouache_mountain_painting_by_Nicholas_Roerich.jpg'\n",
        "# style_img = imread(style_url, max_size=128)\n",
        "# with torch.no_grad():\n",
        "#   target_style = calc_styles(to_nchw(style_img))\n",
        "# # imshow(style_img)\n",
        "\n",
        "# plt.imshow(style_img)"
      ]
    },
    {
      "cell_type": "code",
      "execution_count": null,
      "metadata": {
        "id": "RJ0Du2ELWQaY"
      },
      "outputs": [],
      "source": [
        "opt = torch.optim.Adam(ca.parameters(), 4e-3)\n",
        "lr_sched = torch.optim.lr_scheduler.MultiStepLR(opt, [200,700,800,900], 0.4)\n",
        "loss_log = []\n",
        "with torch.no_grad():\n",
        "  pool = ca.seed(256)\n",
        "\n",
        "torch.set_default_tensor_type('torch.cuda.FloatTensor')\n",
        "batch_size=2\n",
        "torch.autograd.set_detect_anomaly(True)"
      ]
    },
    {
      "cell_type": "code",
      "execution_count": null,
      "metadata": {
        "id": "s1IWqCSMYe0T"
      },
      "outputs": [],
      "source": [
        "for i in range(1000):\n",
        "  with torch.no_grad():\n",
        "    batch_idx = np.random.choice(len(pool), batch_size, replace=False)\n",
        "\n",
        "    x = pool[batch_idx]\n",
        "    if i%8 == 0:\n",
        "      x[:1] = ca.seed(1)\n",
        "  step_n = np.random.randint(64, 96)\n",
        "  x = torch.utils.checkpoint.checkpoint_sequential([ca]*step_n, 16, x)\n",
        "  imgs = to_rgb(x)\n",
        "\n",
        "  overflow_loss = (x-x.clamp(-1.0, 1.0)).abs().sum()\n",
        "  loss = get_clip_loss(\"Fire and Water\", imgs, nn.MSELoss()) + overflow_loss\n",
        "#   print(\"LOSS\",loss)\n",
        "  with torch.no_grad():\n",
        "    loss.backward()\n",
        "    for p in ca.parameters():\n",
        "      p.grad /= (p.grad.norm()+1e-8)   # normalize gradients \n",
        "    opt.step()\n",
        "    opt.zero_grad()\n",
        "    lr_sched.step()\n",
        "    pool[batch_idx] = x                # update pool\n",
        "    \n",
        "    loss_log.append(loss.item())\n",
        "    if i%10==0:\n",
        "      clear_output(True)\n",
        "      pl.plot(loss_log, alpha=0.8)\n",
        "      pl.yscale('log')\n",
        "    #   pl.ylim(np.min(loss_log), loss_log[0])\n",
        "      pl.show()\n",
        "      imgs = to_rgb(x).permute([0, 3, 2, 1]).cpu()\n",
        "      plt.imshow(imgs[0].cpu().detach().numpy())\n",
        "    #   plt.imshow(np.hstack(imgs)[-3:])\n",
        "      plt.show()\n",
        "    if i%10 == 0:\n",
        "      print('\\rstep_n:', len(loss_log),\n",
        "        ' loss:', loss.item(), \n",
        "        ' overflow loss: ', overflow_loss.item(),\n",
        "        ' lr:', lr_sched.get_lr()[0], end='')"
      ]
    },
    {
      "cell_type": "code",
      "execution_count": null,
      "metadata": {
        "id": "vhDZQBfvR2cz"
      },
      "outputs": [],
      "source": [
        "imgs=torch.randn(2,3,512,512).cuda()\n",
        "class_loss(imgs, 5) "
      ]
    },
    {
      "cell_type": "code",
      "execution_count": 59,
      "metadata": {
        "id": "9ahEP1l1fe4r"
      },
      "outputs": [],
      "source": [
        "class VideoWriter:\n",
        "  def __init__(self, filename='./_autoplay.mp4', fps=60.0, **kw):\n",
        "    self.writer = None\n",
        "    self.params = dict(filename=filename, fps=fps, **kw)\n",
        "\n",
        "  def add(self, img):\n",
        "    img = np.asarray(img)\n",
        "    if self.writer is None:\n",
        "      h, w = img.shape[:2]\n",
        "      self.writer = FFMPEG_VideoWriter(size=(w, h), **self.params)\n",
        "    if img.dtype in [np.float32, np.float64]:\n",
        "      img = np.uint8(img.clip(0, 1)*255)\n",
        "    if len(img.shape) == 2:\n",
        "      img = np.repeat(img[..., None], 3, -1)\n",
        "    self.writer.write_frame(img)\n",
        "\n",
        "  def close(self):\n",
        "    if self.writer:\n",
        "      self.writer.close()\n",
        "\n",
        "  def __enter__(self):\n",
        "    return self\n",
        "\n",
        "  def __exit__(self, *kw):\n",
        "    self.close()\n",
        "    if self.params['filename'] == '_autoplay.mp4':\n",
        "      self.show()\n",
        "\n",
        "  def show(self, **kw):\n",
        "      self.close()\n",
        "      fn = self.params['filename']\n",
        "      display(mvp.ipython_display(fn, **kw))\n",
        "\n",
        "def zoom(img, scale=4):\n",
        "  img = np.repeat(img, scale, 0)\n",
        "  img = np.repeat(img, scale, 1)\n",
        "  return img"
      ]
    },
    {
      "cell_type": "code",
      "execution_count": null,
      "metadata": {
        "id": "s7G0xxpkGilV"
      },
      "outputs": [],
      "source": [
        "with VideoWriter() as vid, torch.no_grad():\n",
        "  x = ca.seed(1, 256)\n",
        "  for k in tnrange(600, leave=False):\n",
        "    for i in range(1):\n",
        "      x[:] = ca(x)\n",
        "    img = to_rgb(x[0]).permute(1, 2, 0).cpu()\n",
        "    #vid.add(zoom(img, 16))\n",
        "    vid.add(img)"
      ]
    },
    {
      "cell_type": "code",
      "execution_count": null,
      "metadata": {
        "id": "X0uMqEdofWdA"
      },
      "outputs": [],
      "source": [
        "from google.colab import files\n",
        "files.download('_autoplay.mp4')"
      ]
    },
    {
      "cell_type": "code",
      "execution_count": null,
      "metadata": {
        "id": "bUxx_CXOglwe"
      },
      "outputs": [],
      "source": [
        ""
      ]
    }
  ],
  "metadata": {
    "accelerator": "GPU",
    "colab": {
      "collapsed_sections": [],
      "name": "resnet_optim.ipynb",
      "provenance": []
    },
    "kernelspec": {
      "display_name": "Python 3",
      "name": "python3"
    },
    "language_info": {
      "name": "python"
    }
  },
  "nbformat": 4,
  "nbformat_minor": 0
}