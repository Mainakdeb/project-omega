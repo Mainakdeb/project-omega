{
  "nbformat": 4,
  "nbformat_minor": 0,
  "metadata": {
    "colab": {
      "name": "clip_nca.ipynb",
      "provenance": [],
      "collapsed_sections": []
    },
    "kernelspec": {
      "name": "python3",
      "display_name": "Python 3"
    },
    "language_info": {
      "name": "python"
    },
    "accelerator": "GPU",
    "widgets": {
      "application/vnd.jupyter.widget-state+json": {
        "49b330b46989486e93e70c947e2bdb4c": {
          "model_module": "@jupyter-widgets/controls",
          "model_name": "HBoxModel",
          "model_module_version": "1.5.0",
          "state": {
            "_view_name": "HBoxView",
            "_dom_classes": [],
            "_model_name": "HBoxModel",
            "_view_module": "@jupyter-widgets/controls",
            "_model_module_version": "1.5.0",
            "_view_count": null,
            "_view_module_version": "1.5.0",
            "box_style": "",
            "layout": "IPY_MODEL_05329ea3fd47424eb038c29dd4812897",
            "_model_module": "@jupyter-widgets/controls",
            "children": [
              "IPY_MODEL_d1c2a7f6cb1f4953bac2c62f18e7a70b",
              "IPY_MODEL_d1c85ba6ba9943ca895994634ac7258b",
              "IPY_MODEL_3f5a6db95efd4aa9b5e2d64001d1e812"
            ]
          }
        },
        "05329ea3fd47424eb038c29dd4812897": {
          "model_module": "@jupyter-widgets/base",
          "model_name": "LayoutModel",
          "model_module_version": "1.2.0",
          "state": {
            "_view_name": "LayoutView",
            "grid_template_rows": null,
            "right": null,
            "justify_content": null,
            "_view_module": "@jupyter-widgets/base",
            "overflow": null,
            "_model_module_version": "1.2.0",
            "_view_count": null,
            "flex_flow": null,
            "width": null,
            "min_width": null,
            "border": null,
            "align_items": null,
            "bottom": null,
            "_model_module": "@jupyter-widgets/base",
            "top": null,
            "grid_column": null,
            "overflow_y": null,
            "overflow_x": null,
            "grid_auto_flow": null,
            "grid_area": null,
            "grid_template_columns": null,
            "flex": null,
            "_model_name": "LayoutModel",
            "justify_items": null,
            "grid_row": null,
            "max_height": null,
            "align_content": null,
            "visibility": null,
            "align_self": null,
            "height": null,
            "min_height": null,
            "padding": null,
            "grid_auto_rows": null,
            "grid_gap": null,
            "max_width": null,
            "order": null,
            "_view_module_version": "1.2.0",
            "grid_template_areas": null,
            "object_position": null,
            "object_fit": null,
            "grid_auto_columns": null,
            "margin": null,
            "display": null,
            "left": null
          }
        },
        "d1c2a7f6cb1f4953bac2c62f18e7a70b": {
          "model_module": "@jupyter-widgets/controls",
          "model_name": "HTMLModel",
          "model_module_version": "1.5.0",
          "state": {
            "_view_name": "HTMLView",
            "style": "IPY_MODEL_804b64eec5674da79b488132b2f2b88b",
            "_dom_classes": [],
            "description": "",
            "_model_name": "HTMLModel",
            "placeholder": "​",
            "_view_module": "@jupyter-widgets/controls",
            "_model_module_version": "1.5.0",
            "value": "100%",
            "_view_count": null,
            "_view_module_version": "1.5.0",
            "description_tooltip": null,
            "_model_module": "@jupyter-widgets/controls",
            "layout": "IPY_MODEL_8e7de9d319a24ccdb0c94dd69ec12161"
          }
        },
        "d1c85ba6ba9943ca895994634ac7258b": {
          "model_module": "@jupyter-widgets/controls",
          "model_name": "FloatProgressModel",
          "model_module_version": "1.5.0",
          "state": {
            "_view_name": "ProgressView",
            "style": "IPY_MODEL_2d477b837c2f47d79972c7b93254e670",
            "_dom_classes": [],
            "description": "",
            "_model_name": "FloatProgressModel",
            "bar_style": "",
            "max": 600,
            "_view_module": "@jupyter-widgets/controls",
            "_model_module_version": "1.5.0",
            "value": 600,
            "_view_count": null,
            "_view_module_version": "1.5.0",
            "orientation": "horizontal",
            "min": 0,
            "description_tooltip": null,
            "_model_module": "@jupyter-widgets/controls",
            "layout": "IPY_MODEL_4b084857f5a242e38a7b92f9417d0871"
          }
        },
        "3f5a6db95efd4aa9b5e2d64001d1e812": {
          "model_module": "@jupyter-widgets/controls",
          "model_name": "HTMLModel",
          "model_module_version": "1.5.0",
          "state": {
            "_view_name": "HTMLView",
            "style": "IPY_MODEL_ea6c527f316b450e87a2adeefef944aa",
            "_dom_classes": [],
            "description": "",
            "_model_name": "HTMLModel",
            "placeholder": "​",
            "_view_module": "@jupyter-widgets/controls",
            "_model_module_version": "1.5.0",
            "value": " 599/600 [00:36&lt;00:00, 16.87it/s]",
            "_view_count": null,
            "_view_module_version": "1.5.0",
            "description_tooltip": null,
            "_model_module": "@jupyter-widgets/controls",
            "layout": "IPY_MODEL_8255aa79577640cb8cccdea3c85d1f5f"
          }
        },
        "804b64eec5674da79b488132b2f2b88b": {
          "model_module": "@jupyter-widgets/controls",
          "model_name": "DescriptionStyleModel",
          "model_module_version": "1.5.0",
          "state": {
            "_view_name": "StyleView",
            "_model_name": "DescriptionStyleModel",
            "description_width": "",
            "_view_module": "@jupyter-widgets/base",
            "_model_module_version": "1.5.0",
            "_view_count": null,
            "_view_module_version": "1.2.0",
            "_model_module": "@jupyter-widgets/controls"
          }
        },
        "8e7de9d319a24ccdb0c94dd69ec12161": {
          "model_module": "@jupyter-widgets/base",
          "model_name": "LayoutModel",
          "model_module_version": "1.2.0",
          "state": {
            "_view_name": "LayoutView",
            "grid_template_rows": null,
            "right": null,
            "justify_content": null,
            "_view_module": "@jupyter-widgets/base",
            "overflow": null,
            "_model_module_version": "1.2.0",
            "_view_count": null,
            "flex_flow": null,
            "width": null,
            "min_width": null,
            "border": null,
            "align_items": null,
            "bottom": null,
            "_model_module": "@jupyter-widgets/base",
            "top": null,
            "grid_column": null,
            "overflow_y": null,
            "overflow_x": null,
            "grid_auto_flow": null,
            "grid_area": null,
            "grid_template_columns": null,
            "flex": null,
            "_model_name": "LayoutModel",
            "justify_items": null,
            "grid_row": null,
            "max_height": null,
            "align_content": null,
            "visibility": null,
            "align_self": null,
            "height": null,
            "min_height": null,
            "padding": null,
            "grid_auto_rows": null,
            "grid_gap": null,
            "max_width": null,
            "order": null,
            "_view_module_version": "1.2.0",
            "grid_template_areas": null,
            "object_position": null,
            "object_fit": null,
            "grid_auto_columns": null,
            "margin": null,
            "display": null,
            "left": null
          }
        },
        "2d477b837c2f47d79972c7b93254e670": {
          "model_module": "@jupyter-widgets/controls",
          "model_name": "ProgressStyleModel",
          "model_module_version": "1.5.0",
          "state": {
            "_view_name": "StyleView",
            "_model_name": "ProgressStyleModel",
            "description_width": "",
            "_view_module": "@jupyter-widgets/base",
            "_model_module_version": "1.5.0",
            "_view_count": null,
            "_view_module_version": "1.2.0",
            "bar_color": null,
            "_model_module": "@jupyter-widgets/controls"
          }
        },
        "4b084857f5a242e38a7b92f9417d0871": {
          "model_module": "@jupyter-widgets/base",
          "model_name": "LayoutModel",
          "model_module_version": "1.2.0",
          "state": {
            "_view_name": "LayoutView",
            "grid_template_rows": null,
            "right": null,
            "justify_content": null,
            "_view_module": "@jupyter-widgets/base",
            "overflow": null,
            "_model_module_version": "1.2.0",
            "_view_count": null,
            "flex_flow": null,
            "width": null,
            "min_width": null,
            "border": null,
            "align_items": null,
            "bottom": null,
            "_model_module": "@jupyter-widgets/base",
            "top": null,
            "grid_column": null,
            "overflow_y": null,
            "overflow_x": null,
            "grid_auto_flow": null,
            "grid_area": null,
            "grid_template_columns": null,
            "flex": null,
            "_model_name": "LayoutModel",
            "justify_items": null,
            "grid_row": null,
            "max_height": null,
            "align_content": null,
            "visibility": null,
            "align_self": null,
            "height": null,
            "min_height": null,
            "padding": null,
            "grid_auto_rows": null,
            "grid_gap": null,
            "max_width": null,
            "order": null,
            "_view_module_version": "1.2.0",
            "grid_template_areas": null,
            "object_position": null,
            "object_fit": null,
            "grid_auto_columns": null,
            "margin": null,
            "display": null,
            "left": null
          }
        },
        "ea6c527f316b450e87a2adeefef944aa": {
          "model_module": "@jupyter-widgets/controls",
          "model_name": "DescriptionStyleModel",
          "model_module_version": "1.5.0",
          "state": {
            "_view_name": "StyleView",
            "_model_name": "DescriptionStyleModel",
            "description_width": "",
            "_view_module": "@jupyter-widgets/base",
            "_model_module_version": "1.5.0",
            "_view_count": null,
            "_view_module_version": "1.2.0",
            "_model_module": "@jupyter-widgets/controls"
          }
        },
        "8255aa79577640cb8cccdea3c85d1f5f": {
          "model_module": "@jupyter-widgets/base",
          "model_name": "LayoutModel",
          "model_module_version": "1.2.0",
          "state": {
            "_view_name": "LayoutView",
            "grid_template_rows": null,
            "right": null,
            "justify_content": null,
            "_view_module": "@jupyter-widgets/base",
            "overflow": null,
            "_model_module_version": "1.2.0",
            "_view_count": null,
            "flex_flow": null,
            "width": null,
            "min_width": null,
            "border": null,
            "align_items": null,
            "bottom": null,
            "_model_module": "@jupyter-widgets/base",
            "top": null,
            "grid_column": null,
            "overflow_y": null,
            "overflow_x": null,
            "grid_auto_flow": null,
            "grid_area": null,
            "grid_template_columns": null,
            "flex": null,
            "_model_name": "LayoutModel",
            "justify_items": null,
            "grid_row": null,
            "max_height": null,
            "align_content": null,
            "visibility": null,
            "align_self": null,
            "height": null,
            "min_height": null,
            "padding": null,
            "grid_auto_rows": null,
            "grid_gap": null,
            "max_width": null,
            "order": null,
            "_view_module_version": "1.2.0",
            "grid_template_areas": null,
            "object_position": null,
            "object_fit": null,
            "grid_auto_columns": null,
            "margin": null,
            "display": null,
            "left": null
          }
        }
      }
    }
  },
  "cells": [
    {
      "cell_type": "code",
      "execution_count": null,
      "metadata": {
        "id": "VyR0505IeF2q"
      },
      "outputs": [],
      "source": [
        "!nvidia-smi -L\n",
        "! pip install git+https://github.com/openai/CLIP.git\n",
        "!wget https://cdn2.thecatapi.com/images/c1_w1J682.jpg"
      ]
    },
    {
      "cell_type": "code",
      "source": [
        "import torch\n",
        "import torch.nn as nn\n",
        "import torchvision.models as models\n",
        "import torchvision.transforms.functional as F\n",
        "device = torch.device(\"cuda:0\" if torch.cuda.is_available() else \"cpu\")\n",
        "\n",
        "from PIL import Image\n",
        "import numpy as np\n",
        "from tqdm import tqdm_notebook, tnrange\n",
        "import imageio\n",
        "import clip\n",
        "\n",
        "from base64 import b64encode\n",
        "import matplotlib.pyplot as plt\n",
        "import requests\n",
        "import io\n",
        "import os\n",
        "from IPython.display import  HTML, clear_output\n",
        "import matplotlib.pylab as pl\n",
        "\n",
        "os.environ['FFMPEG_BINARY'] = 'ffmpeg'\n",
        "import moviepy.editor as mvp\n",
        "from moviepy.video.io.ffmpeg_writer import FFMPEG_VideoWriter"
      ],
      "metadata": {
        "id": "Sa2jWB4K9EzG"
      },
      "execution_count": 2,
      "outputs": []
    },
    {
      "cell_type": "code",
      "source": [
        "clip.available_models()\n",
        "\n",
        "model, preprocess = clip.load(\"ViT-B/32\")\n",
        "model.to(device).eval()\n",
        "input_resolution = model.visual.input_resolution\n",
        "context_length = model.context_length\n",
        "vocab_size = model.vocab_size\n",
        "\n",
        "print(\"Model parameters:\", f\"{np.sum([int(np.prod(p.shape)) for p in model.parameters()]):,}\")\n",
        "print(\"Input resolution:\", input_resolution)\n",
        "print(\"Context length:\", context_length)\n",
        "print(\"Vocab size:\", vocab_size)"
      ],
      "metadata": {
        "id": "JJRbW2wT9J2o"
      },
      "execution_count": null,
      "outputs": []
    },
    {
      "cell_type": "code",
      "source": [
        "def clip_encode_text(text_str):\n",
        "    tokenized_text = clip.tokenize(text_str).cuda()\n",
        "    text_features = model.encode_text(tokenized_text)\n",
        "    return(text_features)\n",
        "with torch.no_grad():\n",
        "    text_features=clip_encode_text(\"frogs hi\")\n",
        "\n",
        "def clip_encode_images(image_input):\n",
        "    resized_i = F.resize(image_input, size=(224, 224))\n",
        "    image_features = model.encode_image(resized_i)\n",
        "    # print(resized_i.shape)\n",
        "    return(image_features)\n",
        "\n",
        "image_input=torch.tensor(plt.imread(\"/content/c1_w1J682.jpg\")).cuda().permute(2,1,0)\n",
        "with torch.no_grad():\n",
        "    image_features=clip_encode_images(image_input.unsqueeze(dim=0))\n",
        "\n",
        "image_input.unsqueeze(dim=0).shape"
      ],
      "metadata": {
        "id": "o9VO-tA79OVC"
      },
      "execution_count": null,
      "outputs": []
    },
    {
      "cell_type": "code",
      "source": [
        "def get_clip_loss(text_str, images_tensor):\n",
        "    # with torch.no_grad():\n",
        "    image_features=clip_encode_images(images_tensor.cuda())\n",
        "    text_features=clip_encode_text(text_str).cuda()\n",
        "    text_features=text_features.repeat(image_features.shape[0], 1)\n",
        "    similarity = text_features @ image_features.T\n",
        "    return(-torch.mean(similarity))\n",
        "\n",
        "s=torch.tensor(plt.imread(\"/content/c1_w1J682.jpg\")).permute(2,1,0)\n",
        "print(s.unsqueeze(dim=0).shape)\n",
        "get_clip_loss(text_str=\"image of a brown horse\", images_tensor=s.unsqueeze(dim=0))"
      ],
      "metadata": {
        "id": "xBTE_xJB9PJa"
      },
      "execution_count": null,
      "outputs": []
    },
    {
      "cell_type": "code",
      "source": [
        "sobel_filter = torch.tensor([[-1, 0, 1], [-2, 0, 2], [-1, 0, 1]])\n",
        "identity_filter = torch.tensor([[0, 0, 0], [0, 1, 0], [0, 0, 0],],dtype=torch.float32)\n",
        "laplacian_filter = torch.tensor([[1.0,2.0,1.0], [2.0,-12,2.0], [1.0,2.0,1.0]])\n",
        "\n",
        "def perception(x):\n",
        "  filters = torch.stack([identity_filter, sobel_filter, sobel_filter.T, laplacian_filter])\n",
        "  return perchannel_conv(x, filters)\n",
        "\n",
        "class CA(torch.nn.Module):\n",
        "  def __init__(self, chn=12, hidden_n=96):\n",
        "    super().__init__()\n",
        "    self.chn = chn\n",
        "    self.w1 = torch.nn.Conv2d(chn*4, hidden_n, 1)\n",
        "    self.w2 = torch.nn.Conv2d(hidden_n, chn, 1, bias=False)\n",
        "    self.w2.weight.data.zero_()\n",
        "\n",
        "  def forward(self, x, update_rate=0.5):\n",
        "    y = perception(x)\n",
        "    y = self.w2(torch.relu(self.w1(y)))\n",
        "    b, c, h, w = y.shape\n",
        "    udpate_mask = (torch.rand(b, 1, h, w)+update_rate).floor()\n",
        "    return x+y*udpate_mask\n",
        "\n",
        "  def seed(self, n, sz=128):\n",
        "    seed=torch.randn(n, self.chn, sz, sz)\n",
        "    #normal\n",
        "    seed -= seed.min(1, keepdim=True)[0]\n",
        "    seed /= seed.max(1, keepdim=True)[0]\n",
        "    # print(\"min \", torch.min(seed), \"max \", torch.max(seed))\n",
        "    return seed\n",
        "    \n",
        "ca = CA()\n",
        "\n",
        "def to_rgb(x):\n",
        "  return x[...,:3,:,:]+0.5\n",
        "\n",
        "param_n = sum(p.numel() for p in CA().parameters())\n",
        "print('CA param count:', param_n)\n",
        "\n",
        "def perchannel_conv(x, filters):\n",
        "  '''filters: [filter_n, h, w]'''\n",
        "  b, ch, h, w = x.shape\n",
        "  y = x.reshape(b*ch, 1, h, w)\n",
        "  y = torch.nn.functional.pad(y, [1, 1, 1, 1], 'circular')\n",
        "  y = torch.nn.functional.conv2d(y, filters[:,None])\n",
        "  return y.reshape(b, -1, h, w)"
      ],
      "metadata": {
        "id": "ywH_HMbo-Qf1"
      },
      "execution_count": null,
      "outputs": []
    },
    {
      "cell_type": "code",
      "source": [
        "opt = torch.optim.Adam(ca.parameters(), 4e-3)\n",
        "lr_sched = torch.optim.lr_scheduler.MultiStepLR(opt, [200,700,800,900], 0.4)\n",
        "loss_log = []\n",
        "with torch.no_grad():\n",
        "  pool = ca.seed(256)\n",
        "\n",
        "torch.set_default_tensor_type('torch.cuda.FloatTensor')\n",
        "batch_size=2\n",
        "# torch.autograd.set_detect_anomaly(True)"
      ],
      "metadata": {
        "id": "X8WRrgJg5YwH"
      },
      "execution_count": 100,
      "outputs": []
    },
    {
      "cell_type": "code",
      "source": [
        "for i in range(1000):\n",
        "  with torch.no_grad():\n",
        "    batch_idx = np.random.choice(len(pool), batch_size, replace=False)\n",
        "\n",
        "    x = pool[batch_idx]\n",
        "    if i%8 == 0:\n",
        "      x[:1] = ca.seed(1)\n",
        "  step_n = np.random.randint(64, 96)\n",
        "  x = torch.utils.checkpoint.checkpoint_sequential([ca]*step_n, 16, x)\n",
        "  imgs = to_rgb(x)\n",
        "\n",
        "  overflow_loss = (x-x.clamp(-1.0, 1.0)).abs().sum()\n",
        "  loss = get_clip_loss(\"An image of a zebra\", imgs) + overflow_loss\n",
        "\n",
        "  with torch.no_grad():\n",
        "    loss.backward()\n",
        "    for p in ca.parameters():\n",
        "      p.grad /= (p.grad.norm()+1e-8)   # normalize gradients \n",
        "    opt.step()\n",
        "    opt.zero_grad()\n",
        "    lr_sched.step()\n",
        "    pool[batch_idx] = x                # update pool\n",
        "    \n",
        "    loss_log.append(loss.item())\n",
        "    if i%10==0:\n",
        "      clear_output(True)\n",
        "      pl.plot(loss_log, alpha=0.8)\n",
        "      pl.yscale('log')\n",
        "    #   pl.ylim(np.min(loss_log), loss_log[0])\n",
        "      pl.show()\n",
        "      imgs = to_rgb(x).permute([0, 3, 2, 1]).cpu()\n",
        "      plt.imshow(imgs[0].cpu().detach().numpy())\n",
        "    #   plt.imshow(np.hstack(imgs)[-3:])\n",
        "      plt.show()\n",
        "    if i%10 == 0:\n",
        "      print('\\rstep_n:', len(loss_log),\n",
        "        ' loss:', loss.item(), \n",
        "        ' overflow loss: ', overflow_loss.item(),\n",
        "        ' lr:', lr_sched.get_lr()[0], end='')"
      ],
      "metadata": {
        "id": "xTCYPLohaMLM"
      },
      "execution_count": null,
      "outputs": []
    },
    {
      "cell_type": "code",
      "source": [
        "class VideoWriter:\n",
        "  def __init__(self, filename='./_autoplay.mp4', fps=60.0, **kw):\n",
        "    self.writer = None\n",
        "    self.params = dict(filename=filename, fps=fps, **kw)\n",
        "\n",
        "  def add(self, img):\n",
        "    img = np.asarray(img)\n",
        "    if self.writer is None:\n",
        "      h, w = img.shape[:2]\n",
        "      self.writer = FFMPEG_VideoWriter(size=(w, h), **self.params)\n",
        "    if img.dtype in [np.float32, np.float64]:\n",
        "      img = np.uint8(img.clip(0, 1)*255)\n",
        "    if len(img.shape) == 2:\n",
        "      img = np.repeat(img[..., None], 3, -1)\n",
        "    self.writer.write_frame(img)\n",
        "\n",
        "  def close(self):\n",
        "    if self.writer:\n",
        "      self.writer.close()\n",
        "\n",
        "  def __enter__(self):\n",
        "    return self\n",
        "\n",
        "  def __exit__(self, *kw):\n",
        "    self.close()\n",
        "    if self.params['filename'] == '_autoplay.mp4':\n",
        "      self.show()\n",
        "\n",
        "  def show(self, **kw):\n",
        "      self.close()\n",
        "      fn = self.params['filename']\n",
        "      display(mvp.ipython_display(fn, **kw))\n",
        "\n",
        "def zoom(img, scale=4):\n",
        "  img = np.repeat(img, scale, 0)\n",
        "  img = np.repeat(img, scale, 1)\n",
        "  return img"
      ],
      "metadata": {
        "id": "ukCQIshPcqF3"
      },
      "execution_count": 138,
      "outputs": []
    },
    {
      "cell_type": "code",
      "source": [
        "with VideoWriter() as vid, torch.no_grad():\n",
        "  x = ca.seed(1, 256)\n",
        "  for k in tnrange(600, leave=False):\n",
        "    for i in range(15):\n",
        "      x[:] = ca(x)\n",
        "    img = to_rgb(x[0]).permute(1, 2, 0).cpu()\n",
        "    #vid.add(zoom(img, 16))\n",
        "    vid.add(img)\n",
        "\n",
        "from google.colab import files\n",
        "files.download('_autoplay.mp4')"
      ],
      "metadata": {
        "colab": {
          "base_uri": "https://localhost:8080/",
          "height": 17,
          "referenced_widgets": [
            "49b330b46989486e93e70c947e2bdb4c",
            "05329ea3fd47424eb038c29dd4812897",
            "d1c2a7f6cb1f4953bac2c62f18e7a70b",
            "d1c85ba6ba9943ca895994634ac7258b",
            "3f5a6db95efd4aa9b5e2d64001d1e812",
            "804b64eec5674da79b488132b2f2b88b",
            "8e7de9d319a24ccdb0c94dd69ec12161",
            "2d477b837c2f47d79972c7b93254e670",
            "4b084857f5a242e38a7b92f9417d0871",
            "ea6c527f316b450e87a2adeefef944aa",
            "8255aa79577640cb8cccdea3c85d1f5f"
          ]
        },
        "id": "V0LkIH0QcuLW",
        "outputId": "fd8ccde9-cf1c-47ed-e0f9-b06c8f1a3c42"
      },
      "execution_count": 109,
      "outputs": [
        {
          "output_type": "display_data",
          "data": {
            "application/vnd.jupyter.widget-view+json": {
              "model_id": "49b330b46989486e93e70c947e2bdb4c",
              "version_minor": 0,
              "version_major": 2
            },
            "text/plain": [
              "  0%|          | 0/600 [00:00<?, ?it/s]"
            ]
          },
          "metadata": {}
        },
        {
          "output_type": "display_data",
          "data": {
            "application/javascript": [
              "\n",
              "    async function download(id, filename, size) {\n",
              "      if (!google.colab.kernel.accessAllowed) {\n",
              "        return;\n",
              "      }\n",
              "      const div = document.createElement('div');\n",
              "      const label = document.createElement('label');\n",
              "      label.textContent = `Downloading \"${filename}\": `;\n",
              "      div.appendChild(label);\n",
              "      const progress = document.createElement('progress');\n",
              "      progress.max = size;\n",
              "      div.appendChild(progress);\n",
              "      document.body.appendChild(div);\n",
              "\n",
              "      const buffers = [];\n",
              "      let downloaded = 0;\n",
              "\n",
              "      const channel = await google.colab.kernel.comms.open(id);\n",
              "      // Send a message to notify the kernel that we're ready.\n",
              "      channel.send({})\n",
              "\n",
              "      for await (const message of channel.messages) {\n",
              "        // Send a message to notify the kernel that we're ready.\n",
              "        channel.send({})\n",
              "        if (message.buffers) {\n",
              "          for (const buffer of message.buffers) {\n",
              "            buffers.push(buffer);\n",
              "            downloaded += buffer.byteLength;\n",
              "            progress.value = downloaded;\n",
              "          }\n",
              "        }\n",
              "      }\n",
              "      const blob = new Blob(buffers, {type: 'application/binary'});\n",
              "      const a = document.createElement('a');\n",
              "      a.href = window.URL.createObjectURL(blob);\n",
              "      a.download = filename;\n",
              "      div.appendChild(a);\n",
              "      a.click();\n",
              "      div.remove();\n",
              "    }\n",
              "  "
            ],
            "text/plain": [
              "<IPython.core.display.Javascript object>"
            ]
          },
          "metadata": {}
        },
        {
          "output_type": "display_data",
          "data": {
            "application/javascript": [
              "download(\"download_30aa3d93-58ab-4531-8662-459c282e69b9\", \"_autoplay.mp4\", 1039033)"
            ],
            "text/plain": [
              "<IPython.core.display.Javascript object>"
            ]
          },
          "metadata": {}
        }
      ]
    },
    {
      "cell_type": "code",
      "source": [
        "#save as gif\n",
        "gif_arr=np.zeros((600, 256, 256, 3))\n",
        "with torch.no_grad():\n",
        "  x = ca.seed(1, 256)\n",
        "  for k in tnrange(600, leave=False):\n",
        "    for i in range(15):\n",
        "      x[:] = ca(x)\n",
        "    img = to_rgb(x[0]).permute(1, 2, 0).cpu()\n",
        "    # img *= 255.0/img.max() #normalize? else np2gif doesnt work\n",
        "    gif_arr[i]=img#.permute(2, 0, 1)\n",
        "    # break"
      ],
      "metadata": {
        "id": "0h7JQubzdl8t"
      },
      "execution_count": null,
      "outputs": []
    },
    {
      "cell_type": "code",
      "source": [
        "gif_arr.shape"
      ],
      "metadata": {
        "id": "RnrT9QZed-qp"
      },
      "execution_count": null,
      "outputs": []
    },
    {
      "cell_type": "code",
      "source": [
        "from moviepy.editor import ImageSequenceClip\n",
        "clip = ImageSequenceClip(list(gif_arr), fps=60)\n",
        "clip.write_gif('test.gif', fps=60)\n",
        "\n",
        "files.download('test.gif')"
      ],
      "metadata": {
        "id": "TJ7CEygycolu"
      },
      "execution_count": null,
      "outputs": []
    },
    {
      "cell_type": "code",
      "source": [
        ""
      ],
      "metadata": {
        "id": "i1h0D9jchHE2"
      },
      "execution_count": null,
      "outputs": []
    }
  ]
}