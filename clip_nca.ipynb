{
  "cells": [
    {
      "cell_type": "code",
      "execution_count": null,
      "metadata": {
        "id": "y8UlAJoO6F5X"
      },
      "outputs": [],
      "source": [
        "%%capture\n",
        "!pip install git+https://github.com/openai/CLIP.git"
      ]
    },
    {
      "cell_type": "code",
      "source": [
        "!nvidia-smi -L"
      ],
      "metadata": {
        "id": "PXvZkWnnHTEd"
      },
      "execution_count": null,
      "outputs": []
    },
    {
      "cell_type": "code",
      "source": [
        "%%capture\n",
        "!rm -rf /content/project-omega/ *.py\n",
        "!git clone https://github.com/Mainakdeb/project-omega.git\n",
        "!cp /content/project-omega/*.py /content/"
      ],
      "metadata": {
        "id": "DbZQ433Z8_oD"
      },
      "execution_count": null,
      "outputs": []
    },
    {
      "cell_type": "code",
      "source": [
        "from language_model import clip_encode_images, clip_encode_text, get_clip_loss\n",
        "from nca import ca_model, to_rgb\n",
        "from video_utils import create_inference_video, show_video, create_inference_gif"
      ],
      "metadata": {
        "id": "ZWMxFE-y-E-p"
      },
      "execution_count": null,
      "outputs": []
    },
    {
      "cell_type": "code",
      "execution_count": null,
      "metadata": {
        "id": "fj9Q--hlPEKi"
      },
      "outputs": [],
      "source": [
        "import torch\n",
        "import torch.nn as nn\n",
        "import torchvision\n",
        "import torchvision.models as models\n",
        "import torchvision.transforms.functional as F\n",
        "from torchvision import transforms\n",
        "device = torch.device(\"cuda:0\" if torch.cuda.is_available() else \"cpu\")\n",
        "\n",
        "from PIL import Image\n",
        "import numpy as np\n",
        "from tqdm import tqdm_notebook, tnrange\n",
        "\n",
        "import matplotlib.pyplot as plt\n",
        "import requests\n",
        "import io\n",
        "import os\n",
        "from IPython.display import clear_output\n",
        "\n",
        "os.environ['FFMPEG_BINARY'] = 'ffmpeg'\n",
        "from google.colab import files"
      ]
    },
    {
      "cell_type": "code",
      "execution_count": null,
      "metadata": {
        "id": "nOlGhxB_PIEf"
      },
      "outputs": [],
      "source": [
        "ca = ca_model(chn=12, hidden_n=128).to(device)\n",
        "\n",
        "opt = torch.optim.Adam(ca.parameters(), 2e-3)\n",
        "lr_sched = torch.optim.lr_scheduler.MultiStepLR(opt, [200,700,800,900], 0.4)\n",
        "loss_log = []\n",
        "with torch.no_grad():\n",
        "  pool = ca.seed(n=256, sz=128).to(device)\n",
        "\n",
        "torch.set_default_tensor_type('torch.cuda.FloatTensor')\n",
        "batch_size=4\n",
        "\n",
        "transform = transforms.Compose([# transforms.RandomHorizontalFlip(p=0.5),\n",
        "                                #transforms.RandomVerticalFlip(p=0.5),\n",
        "                                # tansforms.RandomRotation(degrees=30),\n",
        "                                # A.GridDistortion(.9)\n",
        "                                ])"
      ]
    },
    {
      "cell_type": "code",
      "execution_count": null,
      "metadata": {
        "id": "dLf17ePJPLQP"
      },
      "outputs": [],
      "source": [
        "import matplotlib.pyplot as plt\n",
        "plt.rcParams[\"figure.figsize\"] = (10, 10)\n",
        "\n",
        "for i in range(500):\n",
        "  with torch.no_grad():\n",
        "    batch_idx = np.random.choice(len(pool), batch_size, replace=False)\n",
        "\n",
        "    x = pool[batch_idx]\n",
        "    if i%8 == 0:\n",
        "      x[:1] = ca.seed(1).to(device)\n",
        "  step_n = np.random.randint(64, 96)\n",
        "  x = torch.utils.checkpoint.checkpoint_sequential([ca]*step_n, 16, x)\n",
        "  imgs = to_rgb(x)\n",
        "\n",
        "  overflow_loss = (x-x.clamp(-1.0, 1.0)).abs().sum()\n",
        "  loss = get_clip_loss(\"zebra skin\", imgs) + overflow_loss\n",
        "\n",
        "  with torch.no_grad():\n",
        "    loss.backward()\n",
        "    for p in ca.parameters():\n",
        "      p.grad /= (p.grad.norm()+1e-8)   # normalize gradients \n",
        "    opt.step()\n",
        "    opt.zero_grad()\n",
        "    lr_sched.step()\n",
        "    pool[batch_idx] = x                # update pool\n",
        "    \n",
        "    loss_log.append(loss.item())\n",
        "    if i%10==0:\n",
        "      clear_output(True)\n",
        "      imgs = to_rgb(x).permute([0, 3, 2, 1]).cpu()\n",
        "      f, axarr = plt.subplots(2,1)\n",
        "      axarr[0].imshow(torchvision.utils.make_grid(imgs.permute(0, 3, 1, 2,), nrow=4).cpu().detach().permute(1,2,0).numpy())\n",
        "      axarr[1].plot(loss_log[-50:], alpha=0.8)\n",
        "      plt.show()\n",
        "    if i%10 == 0:\n",
        "      print('\\rstep_n:', len(loss_log),\n",
        "        ' loss:', loss.item(), \n",
        "        ' overflow loss: ', overflow_loss.item(),\n",
        "        ' lr:', lr_sched.get_lr()[0], end='')\n",
        "    \n",
        "    # if i%5 == 0:\n",
        "    #   pool=transform(pool)"
      ]
    },
    {
      "cell_type": "code",
      "source": [
        "vid_path = create_inference_video(ca_model=ca,\n",
        "                                  size=64,\n",
        "                                  num_frames=300, \n",
        "                                  steps_per_frame=20, \n",
        "                                  filename=\"test_vid.mov\")\n",
        "show_video(vid_path)"
      ],
      "metadata": {
        "id": "hqLQ1Uz4yHA8"
      },
      "execution_count": null,
      "outputs": []
    },
    {
      "cell_type": "code",
      "source": [
        "gif_path = create_inference_gif(ca_model=ca,\n",
        "                                  size=64,\n",
        "                                  num_frames=120, \n",
        "                                  steps_per_frame=10, \n",
        "                                  fps=20,\n",
        "                                  filename=\"test_gif.gif\")\n",
        "\n",
        "files.download(gif_path) "
      ],
      "metadata": {
        "id": "QvP_XCzP8ahT"
      },
      "execution_count": null,
      "outputs": []
    },
    {
      "cell_type": "code",
      "execution_count": null,
      "metadata": {
        "id": "7Bf_Mtg4Mabj"
      },
      "outputs": [],
      "source": [
        ""
      ]
    }
  ],
  "metadata": {
    "accelerator": "GPU",
    "colab": {
      "collapsed_sections": [],
      "name": "clip_nca_mobile.ipynb",
      "provenance": []
    },
    "kernelspec": {
      "display_name": "Python 3",
      "name": "python3"
    },
    "language_info": {
      "name": "python"
    }
  },
  "nbformat": 4,
  "nbformat_minor": 0
}